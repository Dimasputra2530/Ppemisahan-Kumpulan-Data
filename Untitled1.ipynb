{
  "nbformat": 4,
  "nbformat_minor": 0,
  "metadata": {
    "colab": {
      "provenance": [],
      "authorship_tag": "ABX9TyPOzYLFHExtw3LuVCWOBZ/1",
      "include_colab_link": true
    },
    "kernelspec": {
      "name": "python3",
      "display_name": "Python 3"
    },
    "language_info": {
      "name": "python"
    }
  },
  "cells": [
    {
      "cell_type": "markdown",
      "metadata": {
        "id": "view-in-github",
        "colab_type": "text"
      },
      "source": [
        "<a href=\"https://colab.research.google.com/github/Dimasputra2530/Ppemisahan-Kumpulan-Data/blob/main/Untitled1.ipynb\" target=\"_parent\"><img src=\"https://colab.research.google.com/assets/colab-badge.svg\" alt=\"Open In Colab\"/></a>"
      ]
    },
    {
      "cell_type": "code",
      "execution_count": null,
      "metadata": {
        "id": "tnJcjZ5NfCkY"
      },
      "outputs": [],
      "source": [
        "# Impor pustaka yang diperlukan\n",
        "import pandas as pd\n",
        "from sklearn.model_selection import train_test_split\n",
        "from sklearn.preprocessing import StandardScaler\n",
        "\n",
        "# Muat set data Iris\n",
        "dataset = pd.read_csv('iris.csv')\n",
        "\n",
        "# Pisahkan fitur (X) dan target (y)\n",
        "X = dataset.iloc[:, :-1].values ​​# Semua kolom kecuali yang terakhir\n",
        "y = dataset.iloc[:, -1].values ​​# Kolom terakhir\n",
        "\n",
        "# Pisahkan set data menjadi set pelatihan-uji 80-20\n",
        "X_train, X_test, y_train, y_test = train_test_split(X, y, test_size=0.2, random_state=42)\n",
        "\n",
        "# Terapkan penskalaan fitur pada set pelatihan dan uji\n",
        "sc = StandardScaler()\n",
        "X_train = sc.fit_transform(X_train)\n",
        "X_test = sc.transform(X_test)\n",
        "\n",
        "# Cetak set pelatihan dan pengujian berskala\n",
        "print(\"Scaled X_train:\\n\", X_train)\n",
        "print(\"Scaled X_test:\\n\", X_test)\n",
        "print(\"y_train:\\n\", y_train)\n",
        "print(\"y_test:\\n\", y_test)"
      ]
    }
  ]
}